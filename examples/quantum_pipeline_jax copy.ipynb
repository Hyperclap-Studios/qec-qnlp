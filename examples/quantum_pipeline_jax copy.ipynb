{
 "cells": [
  {
   "cell_type": "markdown",
   "metadata": {},
   "source": [
    "# Quantum pipeline using JAX backend\n",
    "\n",
    "This performs an exact classical simulation."
   ]
  },
  {
   "cell_type": "code",
   "execution_count": 39,
   "metadata": {},
   "outputs": [],
   "source": [
    "import warnings\n",
    "warnings.filterwarnings(\"ignore\")\n",
    "\n",
    "import os\n",
    "os.environ[\"TOKENIZERS_PARALLELISM\"] = \"false\""
   ]
  },
  {
   "cell_type": "code",
   "execution_count": 40,
   "metadata": {},
   "outputs": [],
   "source": [
    "import numpy as np\n",
    "\n",
    "BATCH_SIZE = 50\n",
    "LEARNING_RATE = 3e-2\n",
    "EPOCHS = 2000\n",
    "SEED = 0"
   ]
  },
  {
   "cell_type": "code",
   "execution_count": 41,
   "metadata": {},
   "outputs": [],
   "source": [
    "import numpy as np\n",
    "\n",
    "BATCH_SIZE = 50\n",
    "LEARNING_RATE = 3e-2\n",
    "EPOCHS = 2000\n",
    "SEED = 0"
   ]
  },
  {
   "cell_type": "markdown",
   "metadata": {},
   "source": [
    "### Read in the data and create diagrams"
   ]
  },
  {
   "cell_type": "code",
   "execution_count": 42,
   "metadata": {},
   "outputs": [],
   "source": [
    "def read_data(filename):\n",
    "    labels, sentences = [], []\n",
    "    with open(filename) as f:\n",
    "        for line in f:\n",
    "            t = int(line[len(line) - 2])\n",
    "            labels.append([t, 1-t])\n",
    "            sentences.append(line[:len(line) - 4].strip())\n",
    "    return labels, sentences\n",
    "\n",
    "\n",
    "train_labels, train_data = read_data('../dataset-train.txt')\n",
    "dev_labels, dev_data = read_data('../dataset-validate.txt')\n",
    "test_labels, test_data = read_data('../dataset-test.txt')"
   ]
  },
  {
   "cell_type": "markdown",
   "metadata": {},
   "source": [
    "### Create diagrams"
   ]
  },
  {
   "cell_type": "code",
   "execution_count": 43,
   "metadata": {
    "pycharm": {
     "name": "#%%\n"
    }
   },
   "outputs": [
    {
     "name": "stderr",
     "output_type": "stream",
     "text": [
      "Tagging sentences.\n",
      "Parsing tagged sentences.\n",
      "Turning parse trees to diagrams.\n",
      "Tagging sentences.\n",
      "Parsing tagged sentences.\n",
      "Turning parse trees to diagrams.\n",
      "Tagging sentences.\n",
      "Parsing tagged sentences.\n",
      "Turning parse trees to diagrams.\n"
     ]
    }
   ],
   "source": [
    "from lambeq import BobcatParser\n",
    "\n",
    "parser = BobcatParser(verbose='text')\n",
    "\n",
    "raw_train_diagrams = parser.sentences2diagrams(train_data)\n",
    "raw_dev_diagrams = parser.sentences2diagrams(dev_data)\n",
    "raw_test_diagrams = parser.sentences2diagrams(test_data)"
   ]
  },
  {
   "cell_type": "markdown",
   "metadata": {},
   "source": [
    "### Remove the cups"
   ]
  },
  {
   "cell_type": "code",
   "execution_count": 44,
   "metadata": {},
   "outputs": [
    {
     "data": {
      "image/png": "[encoded data removed]",
      "text/plain": [
       "<Figure size 432x288 with 1 Axes>"
      ]
     },
     "metadata": {
      "needs_background": "light"
     },
     "output_type": "display_data"
    }
   ],
   "source": [
    "from lambeq import remove_cups\n",
    "\n",
    "train_diagrams = [remove_cups(diagram) for diagram in raw_train_diagrams]\n",
    "dev_diagrams = [remove_cups(diagram) for diagram in raw_dev_diagrams]\n",
    "test_diagrams = [remove_cups(diagram) for diagram in raw_test_diagrams]\n",
    "\n",
    "train_diagrams[0].draw()"
   ]
  },
  {
   "cell_type": "markdown",
   "metadata": {},
   "source": [
    "### Create circuits"
   ]
  },
  {
   "cell_type": "code",
   "execution_count": 45,
   "metadata": {},
   "outputs": [],
   "source": [
    "from lambeq import AtomicType, IQPAnsatz\n",
    "\n",
    "ansatz = IQPAnsatz({AtomicType.NOUN: 1, AtomicType.SENTENCE: 0},\n",
    "                   n_layers=2, n_single_qubit_params=3)\n",
    "\n",
    "train_circuits = [ansatz(diagram) for diagram in train_diagrams]\n",
    "dev_circuits = [ansatz(diagram) for diagram in dev_diagrams]\n",
    "test_circuits = [ansatz(diagram) for diagram in test_diagrams]\n",
    "\n",
    "# train_circuits[0].draw(figsize=(9, 12))"
   ]
  },
  {
   "cell_type": "markdown",
   "metadata": {},
   "source": [
    "### Parameterise"
   ]
  },
  {
   "cell_type": "code",
   "execution_count": 46,
   "metadata": {},
   "outputs": [],
   "source": [
    "from lambeq import NumpyModel\n",
    "\n",
    "all_circuits = train_circuits + dev_circuits + test_circuits\n",
    "\n",
    "model = NumpyModel.from_diagrams(all_circuits, use_jit=True)"
   ]
  },
  {
   "cell_type": "markdown",
   "metadata": {},
   "source": [
    "### Define evaluation metric"
   ]
  },
  {
   "cell_type": "code",
   "execution_count": 55,
   "metadata": {},
   "outputs": [],
   "source": [
    "loss = lambda y_hat, y: -np.sum(y * np.log(y_hat)) / len(y)  # binary cross-entropy loss\n",
    "# loss = lambda y_hat, y: np.linalg.norm(y - y_hat) ** 2 / len (y)  # MSE loss\n",
    "acc = lambda y_hat, y: np.sum(np.round(y_hat) == y) / len(y) / 2  # half due to double-counting"
   ]
  },
  {
   "cell_type": "markdown",
   "metadata": {},
   "source": [
    "### Initialize trainer"
   ]
  },
  {
   "cell_type": "code",
   "execution_count": 56,
   "metadata": {},
   "outputs": [],
   "source": [
    "from lambeq import QuantumTrainer, SPSAOptimizer\n",
    "\n",
    "trainer = QuantumTrainer(\n",
    "    model,\n",
    "    loss_function=loss,\n",
    "    epochs=EPOCHS,\n",
    "    optimizer=SPSAOptimizer,\n",
    "    optim_hyperparams={'a': 0.2, 'c': 0.06, 'A':0.01*EPOCHS},\n",
    "    evaluate_functions={'acc': acc},\n",
    "    evaluate_on_train=True,\n",
    "    verbose = 'text',\n",
    "    seed=0\n",
    ")"
   ]
  },
  {
   "cell_type": "code",
   "execution_count": 57,
   "metadata": {},
   "outputs": [],
   "source": [
    "from lambeq import Dataset\n",
    "\n",
    "train_dataset = Dataset(\n",
    "            train_circuits,\n",
    "            train_labels,\n",
    "            batch_size=BATCH_SIZE)\n",
    "\n",
    "val_dataset = Dataset(dev_circuits, dev_labels, shuffle=False)"
   ]
  },
  {
   "cell_type": "markdown",
   "metadata": {},
   "source": [
    "### Train"
   ]
  },
  {
   "cell_type": "code",
   "execution_count": 58,
   "metadata": {},
   "outputs": [
    {
     "ename": "ValueError",
     "evalue": "operands could not be broadcast together with shapes (49,2) (49,) ",
     "output_type": "error",
     "traceback": [
      "\u001b[0;31m---------------------------------------------------------------------------\u001b[0m",
      "\u001b[0;31mValueError\u001b[0m                                Traceback (most recent call last)",
      "\u001b[1;32m/home/robin/repos/qec-qnlp/examples/quantum_pipeline_jax.ipynb Cell 21'\u001b[0m in \u001b[0;36m<cell line: 1>\u001b[0;34m()\u001b[0m\n\u001b[0;32m----> <a href='vscode-notebook-cell://wsl%2Bubuntu/home/robin/repos/qec-qnlp/examples/quantum_pipeline_jax.ipynb#ch0000020vscode-remote?line=0'>1</a>\u001b[0m trainer\u001b[39m.\u001b[39;49mfit(train_dataset, val_dataset, logging_step\u001b[39m=\u001b[39;49m\u001b[39m50\u001b[39;49m)\n",
      "File \u001b[0;32m/usr/local/lib/python3.8/dist-packages/lambeq/training/trainer.py:365\u001b[0m, in \u001b[0;36mTrainer.fit\u001b[0;34m(self, train_dataset, val_dataset, evaluation_step, logging_step)\u001b[0m\n\u001b[1;32m    <a href='file:///usr/local/lib/python3.8/dist-packages/lambeq/training/trainer.py?line=362'>363</a>\u001b[0m step \u001b[39m+\u001b[39m\u001b[39m=\u001b[39m \u001b[39m1\u001b[39m\n\u001b[1;32m    <a href='file:///usr/local/lib/python3.8/dist-packages/lambeq/training/trainer.py?line=363'>364</a>\u001b[0m x, y_label \u001b[39m=\u001b[39m batch\n\u001b[0;32m--> <a href='file:///usr/local/lib/python3.8/dist-packages/lambeq/training/trainer.py?line=364'>365</a>\u001b[0m y_hat, loss \u001b[39m=\u001b[39m \u001b[39mself\u001b[39;49m\u001b[39m.\u001b[39;49mtraining_step(batch)\n\u001b[1;32m    <a href='file:///usr/local/lib/python3.8/dist-packages/lambeq/training/trainer.py?line=365'>366</a>\u001b[0m \u001b[39mif\u001b[39;00m (\u001b[39mself\u001b[39m\u001b[39m.\u001b[39mevaluate_on_train \u001b[39mand\u001b[39;00m\n\u001b[1;32m    <a href='file:///usr/local/lib/python3.8/dist-packages/lambeq/training/trainer.py?line=366'>367</a>\u001b[0m         \u001b[39mself\u001b[39m\u001b[39m.\u001b[39mevaluate_functions \u001b[39mis\u001b[39;00m \u001b[39mnot\u001b[39;00m \u001b[39mNone\u001b[39;00m):\n\u001b[1;32m    <a href='file:///usr/local/lib/python3.8/dist-packages/lambeq/training/trainer.py?line=367'>368</a>\u001b[0m     \u001b[39mfor\u001b[39;00m metr, func \u001b[39min\u001b[39;00m \u001b[39mself\u001b[39m\u001b[39m.\u001b[39mevaluate_functions\u001b[39m.\u001b[39mitems():\n",
      "File \u001b[0;32m/usr/local/lib/python3.8/dist-packages/lambeq/training/quantum_trainer.py:149\u001b[0m, in \u001b[0;36mQuantumTrainer.training_step\u001b[0;34m(self, batch)\u001b[0m\n\u001b[1;32m    <a href='file:///usr/local/lib/python3.8/dist-packages/lambeq/training/quantum_trainer.py?line=132'>133</a>\u001b[0m \u001b[39mdef\u001b[39;00m \u001b[39mtraining_step\u001b[39m(\n\u001b[1;32m    <a href='file:///usr/local/lib/python3.8/dist-packages/lambeq/training/quantum_trainer.py?line=133'>134</a>\u001b[0m         \u001b[39mself\u001b[39m,\n\u001b[1;32m    <a href='file:///usr/local/lib/python3.8/dist-packages/lambeq/training/quantum_trainer.py?line=134'>135</a>\u001b[0m         batch: \u001b[39mtuple\u001b[39m[\u001b[39mlist\u001b[39m[Any], np\u001b[39m.\u001b[39mndarray]) \u001b[39m-\u001b[39m\u001b[39m>\u001b[39m \u001b[39mtuple\u001b[39m[np\u001b[39m.\u001b[39mndarray, \u001b[39mfloat\u001b[39m]:\n\u001b[1;32m    <a href='file:///usr/local/lib/python3.8/dist-packages/lambeq/training/quantum_trainer.py?line=135'>136</a>\u001b[0m     \u001b[39m\"\"\"Perform a training step.\u001b[39;00m\n\u001b[1;32m    <a href='file:///usr/local/lib/python3.8/dist-packages/lambeq/training/quantum_trainer.py?line=136'>137</a>\u001b[0m \n\u001b[1;32m    <a href='file:///usr/local/lib/python3.8/dist-packages/lambeq/training/quantum_trainer.py?line=137'>138</a>\u001b[0m \u001b[39m    Parameters\u001b[39;00m\n\u001b[0;32m   (...)\u001b[0m\n\u001b[1;32m    <a href='file:///usr/local/lib/python3.8/dist-packages/lambeq/training/quantum_trainer.py?line=146'>147</a>\u001b[0m \n\u001b[1;32m    <a href='file:///usr/local/lib/python3.8/dist-packages/lambeq/training/quantum_trainer.py?line=147'>148</a>\u001b[0m \u001b[39m    \"\"\"\u001b[39;00m\n\u001b[0;32m--> <a href='file:///usr/local/lib/python3.8/dist-packages/lambeq/training/quantum_trainer.py?line=148'>149</a>\u001b[0m     y_hat, loss \u001b[39m=\u001b[39m \u001b[39mself\u001b[39;49m\u001b[39m.\u001b[39;49moptimizer\u001b[39m.\u001b[39;49mbackward(batch)\n\u001b[1;32m    <a href='file:///usr/local/lib/python3.8/dist-packages/lambeq/training/quantum_trainer.py?line=149'>150</a>\u001b[0m     \u001b[39mself\u001b[39m\u001b[39m.\u001b[39mtrain_costs\u001b[39m.\u001b[39mappend(loss)\n\u001b[1;32m    <a href='file:///usr/local/lib/python3.8/dist-packages/lambeq/training/quantum_trainer.py?line=150'>151</a>\u001b[0m     \u001b[39mself\u001b[39m\u001b[39m.\u001b[39moptimizer\u001b[39m.\u001b[39mstep()\n",
      "File \u001b[0;32m/usr/local/lib/python3.8/dist-packages/lambeq/training/spsa_optimizer.py:126\u001b[0m, in \u001b[0;36mSPSAOptimizer.backward\u001b[0;34m(self, batch)\u001b[0m\n\u001b[1;32m    <a href='file:///usr/local/lib/python3.8/dist-packages/lambeq/training/spsa_optimizer.py?line=123'>124</a>\u001b[0m \u001b[39mself\u001b[39m\u001b[39m.\u001b[39mmodel\u001b[39m.\u001b[39mweights \u001b[39m=\u001b[39m xplus\n\u001b[1;32m    <a href='file:///usr/local/lib/python3.8/dist-packages/lambeq/training/spsa_optimizer.py?line=124'>125</a>\u001b[0m y0 \u001b[39m=\u001b[39m \u001b[39mself\u001b[39m\u001b[39m.\u001b[39mmodel(diagrams)\n\u001b[0;32m--> <a href='file:///usr/local/lib/python3.8/dist-packages/lambeq/training/spsa_optimizer.py?line=125'>126</a>\u001b[0m loss0 \u001b[39m=\u001b[39m \u001b[39mself\u001b[39;49m\u001b[39m.\u001b[39;49mloss_fn(y0, targets)\n\u001b[1;32m    <a href='file:///usr/local/lib/python3.8/dist-packages/lambeq/training/spsa_optimizer.py?line=126'>127</a>\u001b[0m xminus \u001b[39m=\u001b[39m \u001b[39mself\u001b[39m\u001b[39m.\u001b[39mproject(x \u001b[39m-\u001b[39m \u001b[39mself\u001b[39m\u001b[39m.\u001b[39mck \u001b[39m*\u001b[39m delta)\n\u001b[1;32m    <a href='file:///usr/local/lib/python3.8/dist-packages/lambeq/training/spsa_optimizer.py?line=127'>128</a>\u001b[0m \u001b[39mself\u001b[39m\u001b[39m.\u001b[39mmodel\u001b[39m.\u001b[39mweights \u001b[39m=\u001b[39m xminus\n",
      "\u001b[1;32m/home/robin/repos/qec-qnlp/examples/quantum_pipeline_jax.ipynb Cell 16'\u001b[0m in \u001b[0;36m<lambda>\u001b[0;34m(y_hat, y)\u001b[0m\n\u001b[0;32m----> <a href='vscode-notebook-cell://wsl%2Bubuntu/home/robin/repos/qec-qnlp/examples/quantum_pipeline_jax.ipynb#ch0000015vscode-remote?line=0'>1</a>\u001b[0m loss \u001b[39m=\u001b[39m \u001b[39mlambda\u001b[39;00m y_hat, y: \u001b[39m-\u001b[39mnp\u001b[39m.\u001b[39msum(y \u001b[39m*\u001b[39;49m np\u001b[39m.\u001b[39;49mlog(y_hat)) \u001b[39m/\u001b[39m \u001b[39mlen\u001b[39m(y)  \u001b[39m# binary cross-entropy loss\u001b[39;00m\n\u001b[1;32m      <a href='vscode-notebook-cell://wsl%2Bubuntu/home/robin/repos/qec-qnlp/examples/quantum_pipeline_jax.ipynb#ch0000015vscode-remote?line=1'>2</a>\u001b[0m \u001b[39m# loss = lambda y_hat, y: np.linalg.norm(y - y_hat) ** 2 / len (y)  # MSE loss\u001b[39;00m\n\u001b[1;32m      <a href='vscode-notebook-cell://wsl%2Bubuntu/home/robin/repos/qec-qnlp/examples/quantum_pipeline_jax.ipynb#ch0000015vscode-remote?line=2'>3</a>\u001b[0m acc \u001b[39m=\u001b[39m \u001b[39mlambda\u001b[39;00m y_hat, y: np\u001b[39m.\u001b[39msum(np\u001b[39m.\u001b[39mround(y_hat) \u001b[39m==\u001b[39m y) \u001b[39m/\u001b[39m \u001b[39mlen\u001b[39m(y) \u001b[39m/\u001b[39m \u001b[39m2\u001b[39m\n",
      "\u001b[0;31mValueError\u001b[0m: operands could not be broadcast together with shapes (49,2) (49,) "
     ]
    }
   ],
   "source": [
    "trainer.fit(train_dataset, val_dataset, logging_step=50)"
   ]
  },
  {
   "cell_type": "markdown",
   "metadata": {},
   "source": [
    "### Show results"
   ]
  },
  {
   "cell_type": "code",
   "execution_count": null,
   "metadata": {},
   "outputs": [],
   "source": [
    "import matplotlib.pyplot as plt\n",
    "\n",
    "fig, ((ax_tl, ax_tr), (ax_bl, ax_br)) = plt.subplots(2, 2, sharex=True, sharey='row', figsize=(10, 6))\n",
    "ax_tl.set_title('Training set')\n",
    "ax_tr.set_title('Development set')\n",
    "ax_bl.set_xlabel('Iterations')\n",
    "ax_br.set_xlabel('Iterations')\n",
    "ax_bl.set_ylabel('Accuracy')\n",
    "ax_tl.set_ylabel('Loss')\n",
    "\n",
    "colours = iter(plt.rcParams['axes.prop_cycle'].by_key()['color'])\n",
    "ax_tl.plot(trainer.train_epoch_costs, color=next(colours))\n",
    "ax_bl.plot(trainer.train_results['acc'], color=next(colours))\n",
    "ax_tr.plot(trainer.val_costs, color=next(colours))\n",
    "ax_br.plot(trainer.val_results['acc'], color=next(colours))\n",
    "\n",
    "test_acc = acc(model(test_circuits), test_labels)\n",
    "print('Test accuracy:', test_acc)"
   ]
  },
  {
   "cell_type": "code",
   "execution_count": null,
   "metadata": {
    "collapsed": false,
    "pycharm": {
     "name": "#%%\n"
    }
   },
   "outputs": [],
   "source": []
  }
 ],
 "metadata": {
  "language_info": {
   "name": "python"
  }
 },
 "nbformat": 4,
 "nbformat_minor": 2
}
