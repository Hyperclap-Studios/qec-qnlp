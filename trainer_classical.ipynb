{
 "cells": [
  {
   "cell_type": "code",
   "execution_count": 1,
   "id": "6fb92a35",
   "metadata": {},
   "outputs": [],
   "source": [
    "import torch\n",
    "\n",
    "BATCH_SIZE = 30\n",
    "EPOCHS = 30\n",
    "LEARNING_RATE = 3e-2\n",
    "SEED = 0"
   ]
  },
  {
   "cell_type": "code",
   "execution_count": 2,
   "id": "3da2517a",
   "metadata": {},
   "outputs": [],
   "source": [
    "def read_data(filename):\n",
    "    labels, sentences = [], []\n",
    "    with open(filename) as f:\n",
    "        for line in f:\n",
    "            t = int(line[len(line) - 2])\n",
    "            labels.append([t, 1-t])\n",
    "            sentences.append(line[:len(line) - 4].strip())\n",
    "    return labels, sentences\n",
    "\n",
    "\n",
    "train_labels, train_data = read_data('./dataset.txt')\n",
    "# val_labels, val_data = read_data('./examples/datasets/mc_dev_data.txt')\n",
    "#  test_labels, test_data = read_data('./examples/datasets/mc_test_data.txt')"
   ]
  },
  {
   "cell_type": "code",
   "execution_count": 3,
   "id": "a86140c0",
   "metadata": {},
   "outputs": [
    {
     "data": {
      "text/plain": "['cook creates complicated dish, experienced chef prepares complicated dish',\n 'skilful programmer creates code, devoted hacker writes code',\n 'skilful cook creates meal, devoted hacker creates complicated code',\n 'hacker writes code, skilful hacker creates code',\n 'devoted hacker writes code, hacker writes complicated code']"
     },
     "execution_count": 3,
     "metadata": {},
     "output_type": "execute_result"
    }
   ],
   "source": [
    "train_data[:5]"
   ]
  },
  {
   "cell_type": "code",
   "execution_count": 4,
   "id": "fb43aa35",
   "metadata": {},
   "outputs": [
    {
     "data": {
      "text/plain": "[[1, 0], [1, 0], [0, 1], [1, 0], [1, 0]]"
     },
     "execution_count": 4,
     "metadata": {},
     "output_type": "execute_result"
    }
   ],
   "source": [
    "train_labels[:5]"
   ]
  },
  {
   "cell_type": "code",
   "execution_count": 5,
   "id": "eed06ab7",
   "metadata": {},
   "outputs": [
    {
     "name": "stderr",
     "output_type": "stream",
     "text": [
      "Tagging sentences.\n",
      "Parsing tagged sentences.\n",
      "Turning parse trees to diagrams.\n"
     ]
    }
   ],
   "source": [
    "from lambeq import BobcatParser\n",
    "\n",
    "parser = BobcatParser(verbose='text')\n",
    "\n",
    "train_diagrams = parser.sentences2diagrams(train_data)\n",
    "#val_diagrams = parser.sentences2diagrams(val_data)\n",
    "#test_diagrams = parser.sentences2diagrams(test_data)"
   ]
  },
  {
   "cell_type": "code",
   "execution_count": 6,
   "id": "c96e06b1",
   "metadata": {},
   "outputs": [
    {
     "data": {
      "text/plain": "<Figure size 432x288 with 1 Axes>",
      "image/png": "[encoded data removed]"
     },
     "metadata": {},
     "output_type": "display_data"
    }
   ],
   "source": [
    "from discopy import Dim\n",
    "\n",
    "from lambeq import AtomicType, SpiderAnsatz\n",
    "\n",
    "ansatz = SpiderAnsatz({AtomicType.NOUN: Dim(2),\n",
    "                       AtomicType.SENTENCE: Dim(2)})\n",
    "\n",
    "train_circuits = [ansatz(diagram) for diagram in train_diagrams]\n",
    "#val_circuits =  [ansatz(diagram) for diagram in val_diagrams]\n",
    "#test_circuits = [ansatz(diagram) for diagram in test_diagrams]\n",
    "\n",
    "train_circuits[0].draw()"
   ]
  },
  {
   "cell_type": "code",
   "execution_count": 7,
   "id": "5d38fcce",
   "metadata": {},
   "outputs": [],
   "source": [
    "from lambeq import PytorchModel\n",
    "\n",
    "all_circuits = train_circuits\n",
    "model = PytorchModel.from_diagrams(all_circuits)"
   ]
  },
  {
   "cell_type": "code",
   "execution_count": 8,
   "id": "819a9845",
   "metadata": {},
   "outputs": [],
   "source": [
    "sig = torch.sigmoid\n",
    "\n",
    "def accuracy(y_hat, y):\n",
    "    return torch.sum(torch.eq(torch.round(sig(y_hat)), y))/len(y)/2  # half due to double-counting\n",
    "\n",
    "eval_metrics = {\"acc\": accuracy}"
   ]
  },
  {
   "cell_type": "code",
   "execution_count": 9,
   "id": "027b7745",
   "metadata": {},
   "outputs": [],
   "source": [
    "from lambeq import PytorchTrainer\n",
    "\n",
    "trainer = PytorchTrainer(\n",
    "        model=model,\n",
    "        loss_function=torch.nn.BCEWithLogitsLoss(),\n",
    "        optimizer=torch.optim.AdamW,\n",
    "        learning_rate=LEARNING_RATE,\n",
    "        epochs=EPOCHS,\n",
    "        evaluate_functions=eval_metrics,\n",
    "        evaluate_on_train=True,\n",
    "        verbose='text',\n",
    "        seed=SEED)"
   ]
  },
  {
   "cell_type": "code",
   "execution_count": 10,
   "id": "a04a4c2c",
   "metadata": {},
   "outputs": [],
   "source": [
    "from lambeq import Dataset\n",
    "\n",
    "train_dataset = Dataset(\n",
    "            train_circuits,\n",
    "            train_labels,\n",
    "            batch_size=BATCH_SIZE)\n",
    "\n",
    "#val_dataset = Dataset(val_circuits, val_labels, shuffle=False)"
   ]
  },
  {
   "cell_type": "code",
   "execution_count": 11,
   "id": "8b6b678b",
   "metadata": {},
   "outputs": [
    {
     "name": "stderr",
     "output_type": "stream",
     "text": [
      "Epoch 1:   train/loss: 0.6943   valid/loss: -----   train/acc: 0.5000   valid/acc: -----\n",
      "Epoch 5:   train/loss: 0.6846   valid/loss: -----   train/acc: 0.5450   valid/acc: -----\n",
      "Epoch 10:  train/loss: 0.6092   valid/loss: -----   train/acc: 0.5950   valid/acc: -----\n",
      "Epoch 15:  train/loss: 0.4971   valid/loss: -----   train/acc: 0.6800   valid/acc: -----\n",
      "Epoch 20:  train/loss: 0.1531   valid/loss: -----   train/acc: 0.9750   valid/acc: -----\n",
      "Epoch 25:  train/loss: 0.0000   valid/loss: -----   train/acc: 1.0000   valid/acc: -----\n",
      "Epoch 30:  train/loss: 0.0000   valid/loss: -----   train/acc: 1.0000   valid/acc: -----\n",
      "\n",
      "Training completed!\n"
     ]
    }
   ],
   "source": [
    "trainer.fit(train_dataset, evaluation_step=1, logging_step=5)"
   ]
  },
  {
   "cell_type": "code",
   "execution_count": 13,
   "id": "d53de10f",
   "metadata": {},
   "outputs": [
    {
     "data": {
      "text/plain": "[<matplotlib.lines.Line2D at 0x7f2d192301c0>]"
     },
     "execution_count": 13,
     "metadata": {},
     "output_type": "execute_result"
    },
    {
     "data": {
      "text/plain": "<Figure size 720x432 with 4 Axes>",
      "image/png": "[encoded data removed]"
     },
     "metadata": {
      "needs_background": "light"
     },
     "output_type": "display_data"
    }
   ],
   "source": [
    "import matplotlib.pyplot as plt\n",
    "\n",
    "fig1, ((ax_tl, ax_tr), (ax_bl, ax_br)) = plt.subplots(2, 2, sharey='row', figsize=(10, 6))\n",
    "\n",
    "ax_tl.set_title('Training set')\n",
    "ax_tr.set_title('Development set')\n",
    "ax_bl.set_xlabel('Epochs')\n",
    "ax_br.set_xlabel('Epochs')\n",
    "ax_bl.set_ylabel('Accuracy')\n",
    "ax_tl.set_ylabel('Loss')\n",
    "\n",
    "colours = iter(plt.rcParams['axes.prop_cycle'].by_key()['color'])\n",
    "ax_tl.plot(trainer.train_epoch_costs, color=next(colours))\n",
    "ax_bl.plot(trainer.train_results['acc'], color=next(colours))\n",
    "#ax_tr.plot(trainer.val_costs, color=next(colours))\n",
    "#ax_br.plot(trainer.val_results['acc'], color=next(colours))\n",
    "\n",
    "# print test accuracy\n",
    "#test_acc = accuracy(model(test_circuits), torch.tensor(test_labels))\n",
    "#print('Test accuracy:', test_acc.item())"
   ]
  },
  {
   "cell_type": "code",
   "execution_count": 14,
   "id": "06c153b6",
   "metadata": {},
   "outputs": [],
   "source": [
    "class MyCustomModel(PytorchModel):\n",
    "    def __init__(self):\n",
    "        super().__init__()\n",
    "        self.net = torch.nn.Linear(2, 2)\n",
    "\n",
    "    def forward(self, input):\n",
    "        \"\"\"define a custom forward pass here\"\"\"\n",
    "        preds = self.get_diagram_output(input)\n",
    "        preds = self.net(preds)\n",
    "        return preds"
   ]
  },
  {
   "cell_type": "code",
   "execution_count": 15,
   "id": "00307ef2",
   "metadata": {},
   "outputs": [
    {
     "name": "stderr",
     "output_type": "stream",
     "text": [
      "Epoch 1:   train/loss: 0.7023   valid/loss: -----   train/acc: 0.4650   valid/acc: -----\n",
      "Epoch 5:   train/loss: 0.4476   valid/loss: -----   train/acc: 0.7600   valid/acc: -----\n",
      "Epoch 10:  train/loss: 0.0181   valid/loss: -----   train/acc: 1.0000   valid/acc: -----\n",
      "Epoch 15:  train/loss: 0.0000   valid/loss: -----   train/acc: 1.0000   valid/acc: -----\n",
      "Epoch 20:  train/loss: 0.0000   valid/loss: -----   train/acc: 1.0000   valid/acc: -----\n",
      "Epoch 25:  train/loss: 0.0000   valid/loss: -----   train/acc: 1.0000   valid/acc: -----\n",
      "Epoch 30:  train/loss: 0.0000   valid/loss: -----   train/acc: 1.0000   valid/acc: -----\n",
      "\n",
      "Training completed!\n"
     ]
    }
   ],
   "source": [
    "custom_model = MyCustomModel.from_diagrams(all_circuits)\n",
    "custom_model_trainer = PytorchTrainer(\n",
    "        model=custom_model,\n",
    "        loss_function=torch.nn.BCEWithLogitsLoss(),\n",
    "        optimizer=torch.optim.AdamW,\n",
    "        learning_rate=LEARNING_RATE,\n",
    "        epochs=EPOCHS,\n",
    "        evaluate_functions=eval_metrics,\n",
    "        evaluate_on_train=True,\n",
    "        verbose='text',\n",
    "        seed=SEED)\n",
    "custom_model_trainer.fit(train_dataset, logging_step=5)"
   ]
  },
  {
   "cell_type": "code",
   "execution_count": 17,
   "id": "358bc318",
   "metadata": {},
   "outputs": [
    {
     "data": {
      "text/plain": "[<matplotlib.lines.Line2D at 0x7f2d0fc45e10>]"
     },
     "execution_count": 17,
     "metadata": {},
     "output_type": "execute_result"
    },
    {
     "data": {
      "text/plain": "<Figure size 720x432 with 4 Axes>",
      "image/png": "[encoded data removed]"
     },
     "metadata": {
      "needs_background": "light"
     },
     "output_type": "display_data"
    }
   ],
   "source": [
    "import matplotlib.pyplot as plt\n",
    "\n",
    "fig1, ((ax_tl, ax_tr), (ax_bl, ax_br)) = plt.subplots(2, 2, sharey='row', figsize=(10, 6))\n",
    "\n",
    "ax_tl.set_title('Training set')\n",
    "ax_tr.set_title('valelopment set')\n",
    "ax_bl.set_xlabel('Epochs')\n",
    "ax_br.set_xlabel('Epochs')\n",
    "ax_bl.set_ylabel('Accuracy')\n",
    "ax_tl.set_ylabel('Loss')\n",
    "\n",
    "colours = iter(plt.rcParams['axes.prop_cycle'].by_key()['color'])\n",
    "ax_tl.plot(custom_model_trainer.train_epoch_costs, color=next(colours))\n",
    "ax_bl.plot(custom_model_trainer.train_results['acc'], color=next(colours))\n",
    "#ax_tr.plot(custom_model_trainer.val_costs, color=next(colours))\n",
    "#ax_br.plot(custom_model_trainer.val_results['acc'], color=next(colours))\n",
    "\n",
    "# print test accuracy\n",
    "#test_acc = accuracy(model(test_circuits), torch.tensor(test_labels))\n",
    "#print('Test accuracy:', test_acc.item())"
   ]
  },
  {
   "cell_type": "code",
   "execution_count": null,
   "outputs": [],
   "source": [],
   "metadata": {
    "collapsed": false,
    "pycharm": {
     "name": "#%%\n"
    }
   }
  }
 ],
 "metadata": {
  "language_info": {
   "name": "python"
  }
 },
 "nbformat": 4,
 "nbformat_minor": 5
}